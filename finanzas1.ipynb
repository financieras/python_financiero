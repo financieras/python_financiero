{
  "nbformat": 4,
  "nbformat_minor": 0,
  "metadata": {
    "colab": {
      "provenance": []
    },
    "kernelspec": {
      "name": "python3",
      "display_name": "Python 3"
    },
    "language_info": {
      "name": "python"
    }
  },
  "cells": [
    {
      "cell_type": "markdown",
      "source": [
        "# Curso de Python\n",
        "## Hola mundo\n",
        "Estoy escribiendo texto en **Markdown**"
      ],
      "metadata": {
        "id": "_OB8HihbwAuf"
      }
    },
    {
      "cell_type": "code",
      "execution_count": null,
      "metadata": {
        "colab": {
          "base_uri": "https://localhost:8080/"
        },
        "id": "do9bPcgIvQwI",
        "outputId": "ecad08ad-5da8-45c4-dcdc-f1fa9217aa22"
      },
      "outputs": [
        {
          "output_type": "stream",
          "name": "stdout",
          "text": [
            "Hola mundo\n"
          ]
        }
      ],
      "source": [
        "print('Hola mundo')"
      ]
    },
    {
      "cell_type": "markdown",
      "source": [
        "## Variables"
      ],
      "metadata": {
        "id": "T3YtVbc2wlzg"
      }
    },
    {
      "cell_type": "code",
      "source": [
        "# Asigno el valor 5 a una variable\n",
        "x = 5   # número entero: int\n",
        "print(x)\n",
        "type(x)"
      ],
      "metadata": {
        "colab": {
          "base_uri": "https://localhost:8080/"
        },
        "id": "3466XGu-wq_-",
        "outputId": "a2af9298-4d8b-4a98-decf-6bbe91c19390"
      },
      "execution_count": null,
      "outputs": [
        {
          "output_type": "stream",
          "name": "stdout",
          "text": [
            "5\n"
          ]
        },
        {
          "output_type": "execute_result",
          "data": {
            "text/plain": [
              "int"
            ]
          },
          "metadata": {},
          "execution_count": 5
        }
      ]
    },
    {
      "cell_type": "code",
      "source": [
        "importe = 12.78   # número de tipo flotante 'float'  es un número con decimales\n",
        "print(type(importe))\n",
        "print(importe)\n"
      ],
      "metadata": {
        "colab": {
          "base_uri": "https://localhost:8080/"
        },
        "id": "zoZGe0OgxarP",
        "outputId": "4e92cb3c-b0d4-44b6-d189-64c691cf844a"
      },
      "execution_count": null,
      "outputs": [
        {
          "output_type": "stream",
          "name": "stdout",
          "text": [
            "<class 'float'>\n",
            "12.78\n"
          ]
        }
      ]
    },
    {
      "cell_type": "code",
      "source": [
        "nombre = \"Luis\"   # cadena alfanumérica, string 'str'\n",
        "print(nombre)\n",
        "type(nombre)"
      ],
      "metadata": {
        "colab": {
          "base_uri": "https://localhost:8080/"
        },
        "id": "gYz5opN-yu9x",
        "outputId": "0c15b557-f749-4fb2-98a3-d9eb69db2eba"
      },
      "execution_count": null,
      "outputs": [
        {
          "output_type": "stream",
          "name": "stdout",
          "text": [
            "Luis\n"
          ]
        },
        {
          "output_type": "execute_result",
          "data": {
            "text/plain": [
              "str"
            ]
          },
          "metadata": {},
          "execution_count": 10
        }
      ]
    },
    {
      "cell_type": "markdown",
      "source": [
        "## Operaciones aritméticas básicas"
      ],
      "metadata": {
        "id": "mtlG_ptPzMij"
      }
    },
    {
      "cell_type": "code",
      "source": [
        "a = 2\n",
        "b = 3\n",
        "print(\"Suma:\", a+b)\n",
        "print(\"Producto:\", a*b)\n",
        "print(\"Cociente:\", a/b)   # La división siempre da un float\n",
        "print(\"Módulo:\", a % b)   # Módulo, resto o resíduo\n",
        "print(\"Potencias:\", a**b) # Elevar, potencias"
      ],
      "metadata": {
        "colab": {
          "base_uri": "https://localhost:8080/"
        },
        "id": "91H4ip8GzUiE",
        "outputId": "e493bd39-5e7f-4896-ac4f-10aa5c67bc4b"
      },
      "execution_count": null,
      "outputs": [
        {
          "output_type": "stream",
          "name": "stdout",
          "text": [
            "Suma: 5\n",
            "Producto: 6\n",
            "Cociente: 0.6666666666666666\n",
            "Módulo: 2\n",
            "Potencias: 8\n"
          ]
        }
      ]
    },
    {
      "cell_type": "markdown",
      "source": [
        "## Listas\n",
        "\n",
        "numeros_clave, numerosclave, numerosClave. Nunca poner espacios,ñ,á en los nombres de variable\n",
        "\n",
        "\n"
      ],
      "metadata": {
        "id": "f1hXn8KP04BN"
      }
    },
    {
      "cell_type": "code",
      "source": [
        "numeros = [10,20,30,15]\n",
        "# Las listas o arrays comienzan siempre con index cero\n",
        "print(\"El primer elemento del array:\", numeros[0])\n",
        "print(\"El segundo elemento del array:\", numeros[1])\n",
        "print(\"El tercero elemento del array:\", numeros[2])\n",
        "print(\"El cuarto elemento del array:\", numeros[3])\n",
        "\n",
        "print(\"El último elemento del array:\", numeros[-1])"
      ],
      "metadata": {
        "colab": {
          "base_uri": "https://localhost:8080/"
        },
        "id": "YAxomp3a2jji",
        "outputId": "b92f77f6-87df-4699-a720-f2df546de2f7"
      },
      "execution_count": null,
      "outputs": [
        {
          "output_type": "stream",
          "name": "stdout",
          "text": [
            "El primer elemento del array: 10\n",
            "El segundo elemento del array: 20\n",
            "El tercero elemento del array: 30\n",
            "El cuarto elemento del array: 15\n",
            "El último elemento del array: 15\n"
          ]
        }
      ]
    },
    {
      "cell_type": "code",
      "source": [
        "ciudades = [\"Madrid\", \"Roma\", \"Paris\", \"Londres\"]\n",
        "print(ciudades)"
      ],
      "metadata": {
        "colab": {
          "base_uri": "https://localhost:8080/"
        },
        "id": "EGckTPAx3ANe",
        "outputId": "2437fa86-cb3e-448b-c696-2c0cf02bcf36"
      },
      "execution_count": null,
      "outputs": [
        {
          "output_type": "stream",
          "name": "stdout",
          "text": [
            "['Madrid', 'Roma', 'Paris', 'Londres']\n"
          ]
        }
      ]
    },
    {
      "cell_type": "markdown",
      "source": [
        "# Condicioneles ```if```"
      ],
      "metadata": {
        "id": "MqCiHz0H3ZC2"
      }
    },
    {
      "cell_type": "code",
      "source": [
        "edad = 27\n",
        "\n",
        "if edad >= 18:\n",
        "    print(\"Ya tienes la mayoría de edad\")\n",
        "else:                                           # en caso contrario\n",
        "    print(\"Aún no tienes la mayoría de edad\")\n",
        "\n",
        "print(\"Fin del programa\")"
      ],
      "metadata": {
        "colab": {
          "base_uri": "https://localhost:8080/"
        },
        "id": "7J-lDldq3rRo",
        "outputId": "f695e5ce-d151-4b2e-832c-a435035a7108"
      },
      "execution_count": null,
      "outputs": [
        {
          "output_type": "stream",
          "name": "stdout",
          "text": [
            "Ya tienes la mayoría de edad\n",
            "Fin del programa\n"
          ]
        }
      ]
    },
    {
      "cell_type": "code",
      "source": [
        "edad = 7   # se pone un = cuando es una asignación de una valor a una variable\n",
        "\n",
        "if edad >= 18:\n",
        "    print(\"Ya tienes la mayoría de edad\")\n",
        "elif edad == 17:    # se ponen dos == cuando es una condición\n",
        "    print(\"Te quda muy poco para ser mayor de edad\")\n",
        "else:                                           # en caso contrario\n",
        "    print(\"Aún no tienes la mayoría de edad\")\n",
        "\n",
        "print(\"Fin del programa\")"
      ],
      "metadata": {
        "colab": {
          "base_uri": "https://localhost:8080/"
        },
        "id": "hTONN_II5W4O",
        "outputId": "b80048b3-6dc4-4693-81d0-84a401693c25"
      },
      "execution_count": null,
      "outputs": [
        {
          "output_type": "stream",
          "name": "stdout",
          "text": [
            "Aún no tienes la mayoría de edad\n",
            "Fin del programa\n"
          ]
        }
      ]
    },
    {
      "cell_type": "code",
      "source": [
        "5 == 5    # al evaluar la condición puede dar True o False"
      ],
      "metadata": {
        "colab": {
          "base_uri": "https://localhost:8080/"
        },
        "id": "tt_q3vvp6BOc",
        "outputId": "9938346a-8ffd-4989-a907-e7baa72371b8"
      },
      "execution_count": null,
      "outputs": [
        {
          "output_type": "execute_result",
          "data": {
            "text/plain": [
              "False"
            ]
          },
          "metadata": {},
          "execution_count": 38
        }
      ]
    },
    {
      "cell_type": "markdown",
      "source": [
        "# Bucles de tipo ```for```"
      ],
      "metadata": {
        "id": "NUBu8SyZ6X97"
      }
    },
    {
      "cell_type": "code",
      "source": [
        "for i in range(1,6):\n",
        "    print(\"El cuadrado de \", i, \" es \", i**2, \".\", sep=\"\")"
      ],
      "metadata": {
        "colab": {
          "base_uri": "https://localhost:8080/"
        },
        "id": "0ofeWlf56hXV",
        "outputId": "bf5ae7e2-123b-45b1-d66e-dde40271e424"
      },
      "execution_count": null,
      "outputs": [
        {
          "output_type": "stream",
          "name": "stdout",
          "text": [
            "El cuadrado de 1 es 1.\n",
            "El cuadrado de 2 es 4.\n",
            "El cuadrado de 3 es 9.\n",
            "El cuadrado de 4 es 16.\n",
            "El cuadrado de 5 es 25.\n"
          ]
        }
      ]
    },
    {
      "cell_type": "code",
      "source": [
        "# Imprimimos usando el formato f\n",
        "\n",
        "for i in range(1,6):\n",
        "    print(f\"El cuadrado de {i} es {i**2}.\")"
      ],
      "metadata": {
        "colab": {
          "base_uri": "https://localhost:8080/"
        },
        "id": "Cp0k1ERN8INx",
        "outputId": "5ce7b4a7-0ae9-45cf-8c98-8927ee5927b6"
      },
      "execution_count": null,
      "outputs": [
        {
          "output_type": "stream",
          "name": "stdout",
          "text": [
            "El cuadrado de 1 es 1.\n",
            "El cuadrado de 2 es 4.\n",
            "El cuadrado de 3 es 9.\n",
            "El cuadrado de 4 es 16.\n",
            "El cuadrado de 5 es 25.\n"
          ]
        }
      ]
    },
    {
      "cell_type": "markdown",
      "source": [
        "# VAN (Valor Actual Neto)\n",
        "* NPV\n",
        "* Usando la librería Numpy"
      ],
      "metadata": {
        "id": "Ql2B1xSn-Rk8"
      }
    },
    {
      "cell_type": "code",
      "source": [
        "!pip install numpy-financial"
      ],
      "metadata": {
        "colab": {
          "base_uri": "https://localhost:8080/"
        },
        "id": "rlZKZ6i8jrof",
        "outputId": "54448317-0941-46a6-930c-fa779a3f8684"
      },
      "execution_count": 1,
      "outputs": [
        {
          "output_type": "stream",
          "name": "stdout",
          "text": [
            "Looking in indexes: https://pypi.org/simple, https://us-python.pkg.dev/colab-wheels/public/simple/\n",
            "Collecting numpy-financial\n",
            "  Downloading numpy_financial-1.0.0-py3-none-any.whl (14 kB)\n",
            "Requirement already satisfied: numpy>=1.15 in /usr/local/lib/python3.9/dist-packages (from numpy-financial) (1.22.4)\n",
            "Installing collected packages: numpy-financial\n",
            "Successfully installed numpy-financial-1.0.0\n"
          ]
        }
      ]
    },
    {
      "cell_type": "code",
      "source": [
        "import numpy_financial as npf\n",
        "\n",
        "tasa = 0.05\n",
        "flujos_caja = [-4000, 1400, 1300, 1200, 1100]\n",
        "van = npf.npv(tasa, flujos_caja)\n",
        "print(f\"El VAN es: {round(van, 2)} €.\")"
      ],
      "metadata": {
        "colab": {
          "base_uri": "https://localhost:8080/"
        },
        "id": "P_D0aeo3-gy7",
        "outputId": "06169a55-2c27-4c99-e6a9-e9547f87d84e"
      },
      "execution_count": 5,
      "outputs": [
        {
          "output_type": "stream",
          "name": "stdout",
          "text": [
            "El VAN es: 454.05 €.\n"
          ]
        }
      ]
    },
    {
      "cell_type": "markdown",
      "source": [
        "## Valor Actual de una Renta pospagable\n"
      ],
      "metadata": {
        "id": "YxDicq3oEjDS"
      }
    },
    {
      "cell_type": "code",
      "source": [
        "import numpy_financial as npf\n",
        "rate = 0.08\n",
        "flujos_caja = [0,1000,1000,1000,1000]\n",
        "van = npf.npv(rate, flujos_caja)\n",
        "print(\"El Valor Actual es:\", round(van, 2))\n",
        "va = npf.pv(rate, 4, -1000)\n",
        "print(f\"El Valor Actual es:\", round(va, 2))\n",
        "vf = npf.fv(rate, 4, -1000, 0)\n",
        "print(f\"El Valor Final es: {round(vf,2)}\", \"Este valor está redondeado a dos decimales\")\n",
        "print(f\"El valor Final es: {round(van*(1+rate)**4, 2)}\")"
      ],
      "metadata": {
        "colab": {
          "base_uri": "https://localhost:8080/"
        },
        "id": "_LRiTLJjEu2O",
        "outputId": "10648efd-f99f-4cfb-a0ac-534b0813f0e7"
      },
      "execution_count": 14,
      "outputs": [
        {
          "output_type": "stream",
          "name": "stdout",
          "text": [
            "El Valor Actual es: 3312.13\n",
            "El Valor Actual es: 3312.13\n",
            "El Valor Final es: 4506.11 Este valor está redondeado a dos decimales\n",
            "El valor Final es: 4506.11\n"
          ]
        }
      ]
    },
    {
      "cell_type": "markdown",
      "source": [
        "## VAN y TIR"
      ],
      "metadata": {
        "id": "vbiqyAvcJQH6"
      }
    },
    {
      "cell_type": "code",
      "source": [
        "import numpy_financial as npf\n",
        "\n",
        "flujos_caja = [-4000, 1400, 1300, 1200, 1100]\n",
        "tir = npf.irr(flujos_caja)\n",
        "print(f\"La TIR es: {round(tir,4)*100} %\")"
      ],
      "metadata": {
        "colab": {
          "base_uri": "https://localhost:8080/"
        },
        "id": "SoQfGREBJT24",
        "outputId": "d1514ba0-be56-4068-c30f-e63445d34d69"
      },
      "execution_count": 18,
      "outputs": [
        {
          "output_type": "stream",
          "name": "stdout",
          "text": [
            "La TIR es: 10.0 %\n"
          ]
        }
      ]
    },
    {
      "cell_type": "markdown",
      "source": [
        "## Pago necesario para amortizar un préstamo ```pmt```"
      ],
      "metadata": {
        "id": "gZuUgIetKZlv"
      }
    },
    {
      "cell_type": "code",
      "source": [
        "import numpy_financial as npf\n",
        "principal = 100_000\n",
        "y = 20\n",
        "tin = 0.09    # tipo de interés nominal. El mensual se obtiene dividiendo entre 12\n",
        "mensualidad = npf.pmt(tin/12, y*12, -principal)\n",
        "print(f\"La mensualidad es: {round(mensualidad, 2)} €\")"
      ],
      "metadata": {
        "colab": {
          "base_uri": "https://localhost:8080/"
        },
        "id": "dWbrroQvKiz9",
        "outputId": "c3c0a47b-86c0-46fa-a8c4-cf0a127ef391"
      },
      "execution_count": 21,
      "outputs": [
        {
          "output_type": "stream",
          "name": "stdout",
          "text": [
            "La mensualidad es: 899.73 €\n"
          ]
        }
      ]
    }
  ]
}