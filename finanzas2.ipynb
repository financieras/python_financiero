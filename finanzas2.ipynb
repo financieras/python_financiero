{
  "nbformat": 4,
  "nbformat_minor": 0,
  "metadata": {
    "colab": {
      "provenance": [],
      "authorship_tag": "ABX9TyNBLwajskG9DTN03mwDnTuf",
      "include_colab_link": true
    },
    "kernelspec": {
      "name": "python3",
      "display_name": "Python 3"
    },
    "language_info": {
      "name": "python"
    }
  },
  "cells": [
    {
      "cell_type": "markdown",
      "metadata": {
        "id": "view-in-github",
        "colab_type": "text"
      },
      "source": [
        "<a href=\"https://colab.research.google.com/github/financieras/python_financiero/blob/main/finanzas2.ipynb\" target=\"_parent\"><img src=\"https://colab.research.google.com/assets/colab-badge.svg\" alt=\"Open In Colab\"/></a>"
      ]
    },
    {
      "cell_type": "markdown",
      "source": [
        "# Funciones"
      ],
      "metadata": {
        "id": "HrPMtr87N8Oi"
      }
    },
    {
      "cell_type": "code",
      "execution_count": 1,
      "metadata": {
        "colab": {
          "base_uri": "https://localhost:8080/"
        },
        "id": "LlI6heScN3-j",
        "outputId": "2c3246ee-0fa8-42b1-dfc3-9906483a55d8"
      },
      "outputs": [
        {
          "output_type": "stream",
          "name": "stdout",
          "text": [
            "Hola\n"
          ]
        }
      ],
      "source": [
        "def saluda():           # Declaramos la función. El nombre en minúscualas y sin espacios\n",
        "    print(\"Hola\")       # La indentación (tabulador) es importante\n",
        "\n",
        "saluda()                # invocación de la función. Estamos llamando a la función"
      ]
    },
    {
      "cell_type": "code",
      "source": [
        "def dobla(n):           # n es un parámetro que se le pasa a la función\n",
        "    valor = 2*n\n",
        "    return valor          # esta función lleva un return. Retorna un valor\n",
        "\n",
        "dobla(5)                # invocamos la función pasándole un argumento que es 5"
      ],
      "metadata": {
        "colab": {
          "base_uri": "https://localhost:8080/"
        },
        "id": "k6jhx9ubO8qW",
        "outputId": "74c72de4-c0d3-4a43-f21c-9f7fa124e5dc"
      },
      "execution_count": 2,
      "outputs": [
        {
          "output_type": "execute_result",
          "data": {
            "text/plain": [
              "10"
            ]
          },
          "metadata": {},
          "execution_count": 2
        }
      ]
    },
    {
      "cell_type": "code",
      "source": [
        "def area_rectangulo(lado1, lado2):    # función con dos parámetros\n",
        "    superficie = lado1 * lado2\n",
        "    return superficie\n",
        "\n",
        "a = 2\n",
        "b = 3\n",
        "area_rectangulo(a, b)"
      ],
      "metadata": {
        "colab": {
          "base_uri": "https://localhost:8080/"
        },
        "id": "FUQPyga5P4kc",
        "outputId": "f884a6f7-f494-4ec8-c321-2dca479436a6"
      },
      "execution_count": 5,
      "outputs": [
        {
          "output_type": "execute_result",
          "data": {
            "text/plain": [
              "6"
            ]
          },
          "metadata": {},
          "execution_count": 5
        }
      ]
    },
    {
      "cell_type": "code",
      "source": [
        "# ejemplo de acumulador. La suma de los números del 1 al 100 es 5050.\n",
        "\n",
        "total = 0\n",
        "\n",
        "for i in range(1, 101):\n",
        "    total = total + i        #   total += i\n",
        "\n",
        "print(total)"
      ],
      "metadata": {
        "colab": {
          "base_uri": "https://localhost:8080/"
        },
        "id": "blEf_qmxSahm",
        "outputId": "51df0f87-a15e-4f23-d4dc-43a7296c8422"
      },
      "execution_count": 7,
      "outputs": [
        {
          "output_type": "stream",
          "name": "stdout",
          "text": [
            "5050\n"
          ]
        }
      ]
    },
    {
      "cell_type": "markdown",
      "source": [
        "# Cálculo del VAN con una función propia"
      ],
      "metadata": {
        "id": "T2g1_Y0YQq61"
      }
    },
    {
      "cell_type": "code",
      "source": [
        "def van(tasa, flujos):\n",
        "    result = 0                   # inicializo la variable en cero\n",
        "    for t in range(5):\n",
        "        result += flujos[t] / (1+tasa)**t\n",
        "    return result\n",
        "\n",
        "\n",
        "tasa = 0.05\n",
        "flujos = [-4000, 1400, 1300, 1200, 1100]\n",
        "\n",
        "van(tasa, flujos)"
      ],
      "metadata": {
        "colab": {
          "base_uri": "https://localhost:8080/"
        },
        "id": "RumZ2n6hQxYh",
        "outputId": "e04b7357-7f32-4e57-f35a-67672d922b19"
      },
      "execution_count": 9,
      "outputs": [
        {
          "output_type": "execute_result",
          "data": {
            "text/plain": [
              "454.04949583763903"
            ]
          },
          "metadata": {},
          "execution_count": 9
        }
      ]
    }
  ]
}